{
  "nbformat": 4,
  "nbformat_minor": 0,
  "metadata": {
    "colab": {
      "name": "double.ipynb",
      "provenance": [],
      "collapsed_sections": []
    },
    "kernelspec": {
      "name": "python3",
      "display_name": "Python 3"
    }
  },
  "cells": [
    {
      "cell_type": "code",
      "metadata": {
        "id": "775EIbvHBdga",
        "colab_type": "code",
        "colab": {
          "base_uri": "https://localhost:8080/",
          "height": 122
        },
        "outputId": "10458ff0-b085-4cd6-aaa6-f1d4775ff43c"
      },
      "source": [
        "from google.colab import drive\n",
        "drive.mount('/content/drive')"
      ],
      "execution_count": null,
      "outputs": [
        {
          "output_type": "stream",
          "text": [
            "Go to this URL in a browser: https://accounts.google.com/o/oauth2/auth?client_id=947318989803-6bn6qk8qdgf4n4g3pfee6491hc0brc4i.apps.googleusercontent.com&redirect_uri=urn%3aietf%3awg%3aoauth%3a2.0%3aoob&scope=email%20https%3a%2f%2fwww.googleapis.com%2fauth%2fdocs.test%20https%3a%2f%2fwww.googleapis.com%2fauth%2fdrive%20https%3a%2f%2fwww.googleapis.com%2fauth%2fdrive.photos.readonly%20https%3a%2f%2fwww.googleapis.com%2fauth%2fpeopleapi.readonly&response_type=code\n",
            "\n",
            "Enter your authorization code:\n",
            "··········\n",
            "Mounted at /content/drive\n"
          ],
          "name": "stdout"
        }
      ]
    },
    {
      "cell_type": "code",
      "metadata": {
        "id": "KQjbCEnd8oCp",
        "colab_type": "code",
        "colab": {}
      },
      "source": [
        "import csv\n",
        "import pandas as pd\n",
        "import xlrd\n",
        "import numpy as np\n",
        "import os\n",
        "import matplotlib.pyplot as plt\n",
        "import random\n",
        "from sklearn.preprocessing import OneHotEncoder\n",
        "from keras import layers\n",
        "from keras import models\n",
        "from keras import optimizers\n",
        "from sklearn.preprocessing import MinMaxScaler\n",
        "from sklearn import preprocessing"
      ],
      "execution_count": null,
      "outputs": []
    },
    {
      "cell_type": "code",
      "metadata": {
        "id": "yS1SRLcG9kos",
        "colab_type": "code",
        "colab": {}
      },
      "source": [
        "Data=[]\n",
        "data=[]\n",
        "ID=[]\n",
        "Data1=[]\n",
        "labels=[]\n",
        "path = 'drive/My Drive/Colab Notebooks/final_project/id.csv'\n",
        "path1 = 'drive/My Drive/Colab Notebooks/final_project/inr.csv'\n",
        "path2 = 'drive/My Drive/Colab Notebooks/final_project/outpre1.csv'"
      ],
      "execution_count": null,
      "outputs": []
    },
    {
      "cell_type": "code",
      "metadata": {
        "id": "GIg4mduj9uYG",
        "colab_type": "code",
        "colab": {}
      },
      "source": [
        "with open(path, 'r', encoding='gb18030', errors='ignore') as f:\n",
        "    csv_reader = csv.reader(f)\n",
        "    for row in csv_reader:\n",
        "        ID.append(row)\n",
        "with open(path1, 'r', encoding='gb18030', errors='ignore') as f1:\n",
        "    csv_reader = csv.reader(f1)\n",
        "    for row in csv_reader:\n",
        "        Data.append(row)\n",
        "with open(path2, 'r', encoding='gb18030', errors='ignore') as f2:\n",
        "    csv_reader = csv.reader(f2)\n",
        "    for row in csv_reader:\n",
        "        data.append(row)\n",
        "#feature\n",
        "for i in range(len(Data)):\n",
        "    for j in range(len(data[i])):\n",
        "        Data[i].append(data[i][j])"
      ],
      "execution_count": null,
      "outputs": []
    },
    {
      "cell_type": "code",
      "metadata": {
        "id": "idgZ3cncAqe2",
        "colab_type": "code",
        "colab": {}
      },
      "source": [
        "#mix the label\n",
        "Data=np.array(Data)\n",
        "ID=np.array(ID)\n",
        "index = [i for i in range(len(Data))]\n",
        "random.shuffle(index)\n",
        "Data = Data[index]\n",
        "ID = ID[index]\n",
        "numbers = preprocessing.minmax_scale(Data, feature_range=(0, 1), axis=0, copy=True)\n",
        "\n",
        "#Dense network\n",
        "model=models.Sequential()\n",
        "model.add(layers.Dense(258,activation='relu',input_shape=(278,)))\n",
        "model.add(layers.Dense(128,activation='relu'))\n",
        "model.add(layers.Dense(64,activation='relu'))\n",
        "model.add(layers.Dropout(0.5))\n",
        "model.add(layers.Dense(32,activation='relu'))\n",
        "\n",
        "model.add(layers.Dense(16,activation='relu'))\n",
        "model.add(layers.Dropout(0.5))\n",
        "model.add(layers.Dense(1,activation='sigmoid')) #change the classification \n",
        "model.summary()\n",
        "\n",
        "train_x=numbers[0:91]\n",
        "train_label=ID[0:91]\n",
        "test_x=numbers[91:104]\n",
        "test_label=ID[91:104]\n",
        "\n",
        "\n",
        "#set the parameters\n",
        "model.compile(loss='binary_crossentropy',optimizer=optimizers.RMSprop(lr=1e-4),metrics=['acc'])\n",
        "result=model.fit(train_x,train_label,steps_per_epoch=40,epochs=50,validation_data=(test_x,test_label),validation_steps=40)\n",
        "model.save('double.h5')\n",
        "\n",
        "#acc loss\n",
        "train_acc=result.history['acc']\n",
        "test_acc=result.history['val_acc']\n",
        "train_loss=result.history['loss']\n",
        "test_loss=result.history['val_loss']\n",
        "epochs=range(1,len(train_acc)+1)\n",
        "\n",
        "def accuracy_show():\n",
        "    plt.plot(epochs, train_acc, 'bo', c='b', label='Training_acc')\n",
        "    plt.plot(epochs, test_acc, 'b', c='g', label='test acc')\n",
        "    plt.title('train and test accuracy')\n",
        "    plt.legend()\n",
        "    plt.show()\n",
        "def loss_show():\n",
        "    plt.plot(epochs, train_loss, 'bo', c='b',label='training loss')\n",
        "    plt.plot(epochs, test_loss, 'b', c='g',label='test loss')\n",
        "    plt.title('train and test loss')\n",
        "    plt.legend()\n",
        "    plt.show()\n",
        "\n",
        "accuracy_show()\n",
        "loss_show()\n"
      ],
      "execution_count": null,
      "outputs": []
    }
  ]
}